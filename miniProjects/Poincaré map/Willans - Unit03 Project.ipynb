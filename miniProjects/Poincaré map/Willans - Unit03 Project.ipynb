{
 "cells": [
  {
   "cell_type": "markdown",
   "metadata": {},
   "source": [
    "# Connor Willans - Unit 3 Project\n",
    "## Poincaré Map of Damped Driven Pendulum"
   ]
  },
  {
   "cell_type": "markdown",
   "metadata": {},
   "source": [
    "### Purpose/Abstract\n",
    "The goal for this project was to create the Poincaré map of a damped driven pendulum.\n",
    "\n",
    "A poincaré map is a plot of omega ($\\omega$) vs. theta ($\\theta$), when plotting points at specific times. For example, when it reaches a minimum or maximum, timed with the driving force. It's also important that we restrict our results between: -$\\pi$,$\\pi$, as it makes it easier to study."
   ]
  },
  {
   "cell_type": "markdown",
   "metadata": {},
   "source": [
    "### Theoretical Model\n",
    "We have two models, since we need to keep track of omega ($\\omega$) and theta ($\\theta$). Our models are defined as followed:\n",
    "\n",
    "$$\\frac{d \\theta}{dt} = \\omega$$\n",
    "$$\\frac{d \\omega}{dt} = -\\sin \\theta - b\\omega + F_d cos(\\omega_d t)$$"
   ]
  },
  {
   "cell_type": "markdown",
   "metadata": {},
   "source": [
    "### Validation\n",
    "You don't get a lot of visuals when running the program. You simply get 3 graphs displayed to the screen, with each respresenting a different $F_d$. In this project, we use $0.7$, $1.1$, and $1.2$. A way you can validate these are by looking at the phase space of the three cases."
   ]
  },
  {
   "cell_type": "markdown",
   "metadata": {},
   "source": [
    "![](phaseSP.PNG)"
   ]
  },
  {
   "cell_type": "markdown",
   "metadata": {},
   "source": [
    "_Figure 5.15 From Computational Modeling and Visualization of Physical Systems with Python - Jay Wang_"
   ]
  },
  {
   "cell_type": "markdown",
   "metadata": {},
   "source": [
    "![](poincare.PNG)"
   ]
  },
  {
   "cell_type": "markdown",
   "metadata": {},
   "source": [
    "_Poincaré Maps Generated Through My Program_"
   ]
  },
  {
   "cell_type": "markdown",
   "metadata": {},
   "source": [
    "### Results/Conclusion\n",
    "As seen by the photos, the poincaré maps generated from the phase space plots match up. Through this you're able to view omega ($\\omega$) vs. theta ($\\theta$) for a damped driven pendulum."
   ]
  },
  {
   "cell_type": "code",
   "execution_count": null,
   "metadata": {},
   "outputs": [],
   "source": []
  }
 ],
 "metadata": {
  "kernelspec": {
   "display_name": "Python 3",
   "language": "python",
   "name": "python3"
  },
  "language_info": {
   "codemirror_mode": {
    "name": "ipython",
    "version": 3
   },
   "file_extension": ".py",
   "mimetype": "text/x-python",
   "name": "python",
   "nbconvert_exporter": "python",
   "pygments_lexer": "ipython3",
   "version": "3.8.5"
  }
 },
 "nbformat": 4,
 "nbformat_minor": 4
}
