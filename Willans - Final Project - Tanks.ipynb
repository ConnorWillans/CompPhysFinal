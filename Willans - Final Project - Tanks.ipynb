{
 "cells": [
  {
   "cell_type": "markdown",
   "metadata": {},
   "source": [
    "# Connor Willans - Final Project\n",
    "## Tanks Game"
   ]
  },
  {
   "cell_type": "markdown",
   "metadata": {},
   "source": [
    "### Purpose/Abstract\n",
    "The goal for this project was to create a tanks game using vpython. It features 8 levels, where you must use the tank to hit the target.The game takes place on Mars, so the gravity and air resistance behave the same as they would. \n",
    "Along with the air drag on the ammo, there's a wind component which will mess with the shots velocity while it travels through the air. \n",
    "Before each shot, the user can adjust the power, angle, and spin.  "
   ]
  },
  {
   "cell_type": "markdown",
   "metadata": {},
   "source": [
    "![](tanks1.PNG)"
   ]
  },
  {
   "cell_type": "markdown",
   "metadata": {},
   "source": [
    "### Theoretical Model\n",
    "The ammo / shots themselves are the model, as I had to calculate it's position and velocity, given a few different factors:\n",
    " - Angle of the tank's barrel\n",
    " - The power of the shot\n",
    " - Wind speed / direction\n",
    " - The spin placed on the bullet\n"
   ]
  },
  {
   "cell_type": "markdown",
   "metadata": {},
   "source": [
    "#### Magnus Effect\n",
    "The magnus effect is the force acting on a rotating ball, in this case a tank bullet. Depending on the spin, the ball will travel with different trajectories. For example, top spin will make the ball travel further, but not go as high. Backspin will cause the opposite, more height and less distance. The formula for the magnus effect is as follows:\n",
    "\n",
    "$$\\vec{F}_{magnus} = \\frac{1}{2}C_L \\frac{\\rho A r}{S} \\vec{\\omega} \\times \\vec{v}$$\n",
    "\n",
    "Where $C_L$ is defined by:\n",
    "$$C_L = 0.62S^{0.7}$$\n",
    "And S is defined by: \n",
    "$$S = \\frac{r\\omega}{v}$$"
   ]
  },
  {
   "cell_type": "markdown",
   "metadata": {},
   "source": [
    "#### Air Resistance\n",
    "Air resistance plays an effect on each shot. Depending on the direction and speed of the wind, the ammo's velocity will be slightly altered. The formula being:\n",
    "\n",
    "$$\\vec{F}_{air} = -b|\\vec{v}|\\hat{v}$$"
   ]
  },
  {
   "cell_type": "markdown",
   "metadata": {},
   "source": [
    "#### Gravity\n",
    "Calculating the gravitational pull on the ammo was fairly simple. The gravity on Mars is *3.711 m/s^2* and I set the mass of the ammo to *200 kgs* \n",
    "\n",
    "$$\\vec{F}_{grav} = m * \\vec{grav} $$"
   ]
  },
  {
   "cell_type": "markdown",
   "metadata": {},
   "source": [
    "#### Bring it all together\n",
    "Now that we have all of our forces acting on the ammo, I combined them to get an overall net force:\n",
    "\n",
    "$$\\vec{F}_{net} = \\vec{F}_{grav} + \\vec{F}_{magnus} + \\vec{F}_{air}$$"
   ]
  },
  {
   "cell_type": "markdown",
   "metadata": {},
   "source": [
    "#### Position and Velocity\n",
    "I used the RK4 ODE solver function in order to accurately determine the shot's position and velocity:\n",
    "\n",
    "$$k_1 = hf(y_n,t_n)$$\n",
    "\n",
    "$$k_2 = hf\\left(y_n+\\frac{k_1}{2},t_n+\\frac{h}{2}\\right)$$\n",
    "\n",
    "$$k_3 = hf\\left(y_n+\\frac{k_2}{2},t_n+\\frac{h}{2}\\right)$$\n",
    "\n",
    "$$k_4 = hf\\left(y_n+k_3,t_n+h\\right)$$\n",
    "\n",
    "$$y_{n+1} = y_n + \\frac{k_1}{6} + \\frac{k_2}{3} + \\frac{k_3}{3} + \\frac{k_4}{6}$$"
   ]
  },
  {
   "cell_type": "markdown",
   "metadata": {},
   "source": [
    "### Gameplay\n",
    "The program behaves similarly to a regular video game. The user is greeted to a title screen, with the options of *Start* and *How to Play*. Upon starting, the game will load level one and give the user 3 shots.\n",
    "\n",
    "![](title.jpg)\n",
    "\n",
    "If the player hits the target, it will continue to the next level and repeat until all 10 levels are completed. If the player doesn't manage to hit the target after 3 shots on any level, it will end and they'll have to restart from the beginning.\n",
    "\n",
    "![](allLevels.jpg)"
   ]
  },
  {
   "cell_type": "markdown",
   "metadata": {},
   "source": [
    "### Code\n",
    "When the game first loads, I create all the vpython objects I'll need throughout all the levels and hide them behind the background. "
   ]
  },
  {
   "cell_type": "markdown",
   "metadata": {},
   "source": [
    "```python\n",
    "land1 = box(pos=vec(0,0,-0.3), size=vec(0.1,0.1,0.1), shininess = 0, color=color.red)\n",
    "land2 = pyramid(pos=vec(0,0,-0.3), size=vec(0.1,0.1,0.1), shininess = 0, color=color.red)\n",
    "land3 = box(pos=vec(0,0,-0.3), size=vec(0.1,0.1,0.1), shininess = 0, color=color.red)\n",
    "land4 = pyramid(pos=vec(0,0,-0.3), size=vec(0.1,0.1,0.1), shininess = 0, color=color.red)\n",
    "land5 = box(pos=vec(0,0,-0.3), size=vec(0.1,0.1,0.1), shininess = 0, color=color.red)\n",
    ".\n",
    ".\n",
    ".\n",
    "```"
   ]
  },
  {
   "cell_type": "markdown",
   "metadata": {},
   "source": [
    "I created a `loadLevel(levelNum)` function that allows me to change the size and position of specific objects depending on what level it is. It'll unload the previous level's assets, load the current, and also update the position of the tank and target.\n",
    "The following is the code for level 5:\n",
    "\n",
    "```python\n",
    "#unload\n",
    "land2.pos = vec(0,0,-0.3)\n",
    "land2.size = vec(0.1,0.1,0.1)\n",
    "land4.pos = vec(0,0,-0.3)\n",
    "land4.size = vec(0.1,0.1,0.1)\n",
    "land6.pos = vec(0,0,-0.3)\n",
    "land6.size = vec(0.1,0.1,0.1)\n",
    "land7.pos = vec(0,0,-0.3)\n",
    "land7.size = vec(0.1,0.1,0.1)\n",
    "land8.pos = vec(0,0,-0.3)\n",
    "land8.size = vec(0.1,0.1,0.1)\n",
    "land9.pos = vec(0,0,-0.3)\n",
    "land9.size = vec(0.1,0.1,0.1)\n",
    "land10.pos = vec(0,0,-0.3)\n",
    "land10.size = vec(0.1,0.1,0.1)\n",
    "land11.pos = vec(0,0,-0.3)\n",
    "land11.size = vec(0.1,0.1,0.1)\n",
    "land12.pos = vec(0,0,-0.3)\n",
    "land12.size = vec(0.1,0.1,0.1)\n",
    "\n",
    "#pos\n",
    "target.size = vec(3, 3, 0.1)\n",
    "tank.pos = vec(24,21.1,-0.1)\n",
    "target.pos = vec(-4,21.6,-0.1)\n",
    "\n",
    "updatePos()\n",
    "\n",
    "#land\n",
    "land1.pos = vec(0,10,-0.1)\n",
    "land1.size = vec(60,20,0.1)\n",
    "land3.pos = vec(0,20,-0.1)\n",
    "land3.size = vec(2,40,0.1)\n",
    "land13.pos = vec(4,20,-0.1)\n",
    "land13.size = vec(2,30,0.1)\n",
    "land14.pos = vec(8,20,-0.1)\n",
    "land14.size = vec(2,20,0.1)\n",
    "```"
   ]
  },
  {
   "cell_type": "markdown",
   "metadata": {},
   "source": [
    "#### Collision Detection\n",
    "I determined whether or not the shot was colliding with the ground by using *if* statements with the shot's position. If the position is over a boundary, it'll break out of the loop and explode at that position. This is the coillision code for level 5:\n",
    "\n",
    "```python \n",
    "    if ammo.pos.y <= 19.9:\n",
    "        break\n",
    "    if ammo.pos.x >= 1 and ammo.pos.x <= -1:\n",
    "        if ammo.pos.y <= 40:\n",
    "            break\n",
    "    if ammo.pos.x >= 0.9 and ammo.pos.x <= 1.1:\n",
    "        if ammo.pos.y <= 40:\n",
    "            break\n",
    "    if ammo.pos.x >= -0.9 and ammo.pos.x <= -1.1:\n",
    "        if ammo.pos.y <= 40:\n",
    "            break\n",
    "    if ammo.pos.x >= 3 and ammo.pos.x <= 5:\n",
    "        if ammo.pos.y <= 35:\n",
    "            break\n",
    "    if ammo.pos.x >= 4.9 and ammo.pos.x <= 5.1:\n",
    "        if ammo.pos.y <= 35:\n",
    "            break\n",
    "    if ammo.pos.x >= 2.9 and ammo.pos.x <= 3.1:\n",
    "        if ammo.pos.y <= 35:\n",
    "            break\n",
    "    if ammo.pos.x >= 7 and ammo.pos.x <= 9:\n",
    "        if ammo.pos.y <= 30:\n",
    "            break\n",
    "    if ammo.pos.x >= 6.9 and ammo.pos.x <= 7.1:\n",
    "        if ammo.pos.y <= 30:\n",
    "            break\n",
    "    if ammo.pos.x >= 8.9 and ammo.pos.x <= 9.1:\n",
    "        if ammo.pos.y <= 30:\n",
    "            break\n",
    "    #target---\n",
    "    if ammo.pos.y <= target.pos.y+1.5:\n",
    "        if ammo.pos.x >= target.pos.x-1.5 and ammo.pos.x <= target.pos.x+1.5:\n",
    "            flag_hit = True\n",
    "            print(\"\\nCongrats - You Win!\\n\")\n",
    "            callPLT = 1\n",
    "            break\n",
    "    if ammo.pos.y <= target.pos.y+1.5 and ammo.pos.y >= target.pos.y-1.5:\n",
    "        if ammo.pos.x >= target.pos.x-1.6 and ammo.pos.x <= target.pos.x-1.4:\n",
    "            flag_hit = True\n",
    "            print(\"\\nCongrats - You Win!\\n\")\n",
    "            callPLT = 1\n",
    "            break\n",
    "    if ammo.pos.y <= target.pos.y+1.5 and ammo.pos.y >= target.pos.y-1.5:\n",
    "        if ammo.pos.x >= target.pos.x+1.4 and ammo.pos.x <= target.pos.x+1.6:\n",
    "            flag_hit = True\n",
    "            print(\"\\nCongrats - You Win!\\n\")\n",
    "            callPLT = 1\n",
    "            break\n",
    "```"
   ]
  },
  {
   "cell_type": "markdown",
   "metadata": {},
   "source": [
    "### Validation\n",
    "\n",
    "While you can simply watch the game play out on your screen, and watch the bullet fly across mars, it's still important to validate the calculations. At the end of the game, whether you hit the target or not, a graph will pop up displaying the **Y-Velocity** of the first shot you fire.\n",
    "\n",
    "![](tanks2.PNG)\n",
    "\n",
    "This graph shows that my calculation were accurate, as the graph for **Y-Velocity** should be linear.\n"
   ]
  },
  {
   "cell_type": "markdown",
   "metadata": {},
   "source": [
    "### Results/Conclusion\n",
    "\n",
    "This game allows you to fire a tank on mars, but also you get to see the effects of spin, air resistence, and angles on the shot. I tried to design levels so that they used all different combinations of input in order to hit the target. "
   ]
  },
  {
   "cell_type": "markdown",
   "metadata": {},
   "source": [
    "### References\n",
    "1. [Air Density of Mars](http://www.braeunig.us/space/atmmars.htm)\n",
    "2. [Gravitational Pull of Mars](https://phys.org/news/2016-12-strong-gravity-mars.html)\n",
    "3. [General VPython Guide](https://www.glowscript.org/docs/VPythonDocs/index.html)"
   ]
  }
 ],
 "metadata": {
  "kernelspec": {
   "display_name": "Python 3",
   "language": "python",
   "name": "python3"
  },
  "language_info": {
   "codemirror_mode": {
    "name": "ipython",
    "version": 3
   },
   "file_extension": ".py",
   "mimetype": "text/x-python",
   "name": "python",
   "nbconvert_exporter": "python",
   "pygments_lexer": "ipython3",
   "version": "3.8.5"
  }
 },
 "nbformat": 4,
 "nbformat_minor": 4
}
